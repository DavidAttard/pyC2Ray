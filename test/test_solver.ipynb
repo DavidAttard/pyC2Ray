{
 "cells": [
  {
   "cell_type": "markdown",
   "id": "ec70a4e2",
   "metadata": {},
   "source": [
    "## Test compare the chemistry.py"
   ]
  },
  {
   "cell_type": "code",
   "execution_count": 1,
   "id": "a2b9c6c0",
   "metadata": {},
   "outputs": [
    {
     "name": "stderr",
     "output_type": "stream",
     "text": [
      "2024-05-27 19:15:53.295217: I tensorflow/core/util/port.cc:113] oneDNN custom operations are on. You may see slightly different numerical results due to floating-point round-off errors from different computation orders. To turn them off, set the environment variable `TF_ENABLE_ONEDNN_OPTS=0`.\n",
      "2024-05-27 19:15:53.321226: E external/local_xla/xla/stream_executor/cuda/cuda_dnn.cc:9261] Unable to register cuDNN factory: Attempting to register factory for plugin cuDNN when one has already been registered\n",
      "2024-05-27 19:15:53.321249: E external/local_xla/xla/stream_executor/cuda/cuda_fft.cc:607] Unable to register cuFFT factory: Attempting to register factory for plugin cuFFT when one has already been registered\n",
      "2024-05-27 19:15:53.321936: E external/local_xla/xla/stream_executor/cuda/cuda_blas.cc:1515] Unable to register cuBLAS factory: Attempting to register factory for plugin cuBLAS when one has already been registered\n",
      "2024-05-27 19:15:53.326477: I tensorflow/core/platform/cpu_feature_guard.cc:182] This TensorFlow binary is optimized to use available CPU instructions in performance-critical operations.\n",
      "To enable the following instructions: AVX2 AVX_VNNI FMA, in other operations, rebuild TensorFlow with the appropriate compiler flags.\n",
      "2024-05-27 19:15:53.908514: W tensorflow/compiler/tf2tensorrt/utils/py_utils.cc:38] TF-TRT Warning: Could not find TensorRT\n"
     ]
    }
   ],
   "source": [
    "import numpy as np\n",
    "import pyc2ray as p2c\n",
    "import matplotlib.pyplot as plt\n",
    "\n",
    "import astropy.units as u\n",
    "import astropy.constants as cst\n",
    "from astropy.cosmology import Planck18 as cosmo"
   ]
  },
  {
   "cell_type": "markdown",
   "id": "ff5fbbe4",
   "metadata": {},
   "source": [
    "### Define fields\n",
    "in this example we define some random density fields for the gas density <b>ndens</b>, temperature <b>temp</b>, ionization fraction <b>xh</b> and photo-ionization rate <b>phi_ion</b>.</br>\n",
    "These four field can be a single value or a numpy array with the same shape."
   ]
  },
  {
   "cell_type": "code",
   "execution_count": 2,
   "id": "52af333d",
   "metadata": {},
   "outputs": [
    {
     "name": "stdout",
     "output_type": "stream",
     "text": [
      "[[[0.1]]]\n"
     ]
    }
   ],
   "source": [
    "#mesh_shape = (10,10,10)\n",
    "mesh_shape = (1,1,1)\n",
    "\n",
    "np.random.seed(2023)\n",
    "# density field [g/cm^3]\n",
    "ndens = np.ones(mesh_shape)*1e-6\n",
    "\n",
    "# temperature [K]\n",
    "temp = np.ones(mesh_shape)*1e4\n",
    "\n",
    "# clumping factor\n",
    "clumping = np.ones(mesh_shape)\n",
    "\n",
    "# Hydrogen ionization fraction\n",
    "xh = np.ones(mesh_shape)*0.1 #np.random.uniform(low=0, high=0.1, size=mesh_shape)\n",
    "xh_ini = xh.copy()\n",
    "print(xh_ini)\n",
    "# photo-ionization rate [s^-1]\n",
    "phi_ion = np.random.uniform(low=1e-13, high=1e-12, size=mesh_shape)"
   ]
  },
  {
   "cell_type": "markdown",
   "id": "e42d1bad",
   "metadata": {},
   "source": [
    "### Define the time-step loop"
   ]
  },
  {
   "cell_type": "code",
   "execution_count": 3,
   "id": "073a5d5c",
   "metadata": {},
   "outputs": [
    {
     "name": "stdout",
     "output_type": "stream",
     "text": [
      "Volume-averaged ionized fraction at t=0: 0.100\n",
      "Volume-averaged ionized fraction after t=500000 yr: 0.998\n"
     ]
    }
   ],
   "source": [
    "# time-step\n",
    "dt = 50*u.yr\n",
    "t_steps = 10000\n",
    "\n",
    "print('Volume-averaged ionized fraction at t=0: %.3f' %np.mean(xh_ini))\n",
    "\n",
    "# calculate ODE\n",
    "t_arr = np.arange(t_steps)*dt.value\n",
    "xh_arr = np.zeros(t_steps)\n",
    "for i in range(t_steps):\n",
    "    new_xh = p2c.solver.hydrogenODE(dt=dt.cgs.value, ndens=ndens, temp=temp, xh=xh, phi_ion=phi_ion, clump=clumping)\n",
    "    xh = new_xh\n",
    "    xh_arr[i] = xh\n",
    "\n",
    "print('Volume-averaged ionized fraction after t=%d %s: %.3f' %(dt.value*t_steps, dt.unit, np.mean(xh)))"
   ]
  },
  {
   "cell_type": "code",
   "execution_count": 4,
   "id": "8020c74a-a472-4605-b8ec-480b30084e8a",
   "metadata": {},
   "outputs": [
    {
     "name": "stdout",
     "output_type": "stream",
     "text": [
      "Volume-averaged ionized fraction at t=0: 0.100\n"
     ]
    },
    {
     "ename": "TypeError",
     "evalue": "unsupported operand type(s) for -: 'NoneType' and 'float'",
     "output_type": "error",
     "traceback": [
      "\u001b[0;31m---------------------------------------------------------------------------\u001b[0m",
      "\u001b[0;31mTypeError\u001b[0m                                 Traceback (most recent call last)",
      "Cell \u001b[0;32mIn[4], line 17\u001b[0m\n\u001b[1;32m     15\u001b[0m xh_arr \u001b[38;5;241m=\u001b[39m np\u001b[38;5;241m.\u001b[39mzeros(t_steps)\n\u001b[1;32m     16\u001b[0m \u001b[38;5;28;01mfor\u001b[39;00m i \u001b[38;5;129;01min\u001b[39;00m \u001b[38;5;28mrange\u001b[39m(t_steps):\n\u001b[0;32m---> 17\u001b[0m     new_xh \u001b[38;5;241m=\u001b[39m p2c\u001b[38;5;241m.\u001b[39mchemistry\u001b[38;5;241m.\u001b[39mglobal_pass(dt\u001b[38;5;241m.\u001b[39mcgs\u001b[38;5;241m.\u001b[39mvalue, ndens, temp, xh, xh, xh, phi_ion, clumping, bh00, albpow, colh0, temph0, abu_c)\n\u001b[1;32m     18\u001b[0m     xh \u001b[38;5;241m=\u001b[39m new_xh\n\u001b[1;32m     19\u001b[0m     xh_arr[i] \u001b[38;5;241m=\u001b[39m xh\n",
      "File \u001b[0;32m~/codes/pyC2Ray/pyc2ray/solver/chemistry.py:22\u001b[0m, in \u001b[0;36mglobal_pass\u001b[0;34m(dt, ndens, temp, xfrac, xfrac_av, xfrac_intermed, irate, clumping, bh00, albpow, colh0, temph0, abu_c)\u001b[0m\n\u001b[1;32m     20\u001b[0m xh_av \u001b[38;5;241m=\u001b[39m xfrac_av[i,j,k]\n\u001b[1;32m     21\u001b[0m xh_intermed \u001b[38;5;241m=\u001b[39m xfrac_intermed[i,j,k]\n\u001b[0;32m---> 22\u001b[0m a \u001b[38;5;241m=\u001b[39m evolve0D_global(dt, pos, ndens, temp, xh, xh_av, xh_intermed, phi_ion, clump, bh00, albpow, colh0, temph0, abu_c, conv_flag, m1, m2, m3)\n\u001b[1;32m     23\u001b[0m \u001b[38;5;28mprint\u001b[39m(a)\n\u001b[1;32m     24\u001b[0m xh_new[i,j,k] \u001b[38;5;241m=\u001b[39m a\n",
      "File \u001b[0;32m~/codes/pyC2Ray/pyc2ray/solver/chemistry.py:39\u001b[0m, in \u001b[0;36mevolve0D_global\u001b[0;34m(dt, pos, ndens, temp, xh, xh_av, xh_intermed, phi_ion, clump, bh00, albpow, colh0, temph0, abu_c, conv_flag, m1, m2, m3)\u001b[0m\n\u001b[1;32m     36\u001b[0m xh_intermed_p \u001b[38;5;241m=\u001b[39m xh_intermed \u001b[38;5;66;03m#[i, j, k]\u001b[39;00m\n\u001b[1;32m     37\u001b[0m yh_av_p \u001b[38;5;241m=\u001b[39m \u001b[38;5;241m1.0\u001b[39m \u001b[38;5;241m-\u001b[39m xh_av_p\n\u001b[0;32m---> 39\u001b[0m xh_av \u001b[38;5;241m=\u001b[39m do_chemistry(dt, ndens_p, temperature_start, xh_p, xh_av_p, xh_intermed_p, phi_ion_p, clump_p, bh00, albpow, colh0, temph0, abu_c)\n\u001b[1;32m     41\u001b[0m xh_av_p_old \u001b[38;5;241m=\u001b[39m xh_av \u001b[38;5;66;03m#[i, j, k]\u001b[39;00m\n\u001b[1;32m     42\u001b[0m \u001b[38;5;28;01mif\u001b[39;00m ((\u001b[38;5;28mabs\u001b[39m(xh_av_p \u001b[38;5;241m-\u001b[39m xh_av_p_old) \u001b[38;5;241m>\u001b[39m minimum_fractional_change \u001b[38;5;129;01mand\u001b[39;00m \u001b[38;5;28mabs\u001b[39m((xh_av_p \u001b[38;5;241m-\u001b[39m xh_av_p_old) \u001b[38;5;241m/\u001b[39m yh_av_p) \u001b[38;5;241m>\u001b[39m minimum_fractional_change \u001b[38;5;129;01mand\u001b[39;00m \n\u001b[1;32m     43\u001b[0m      yh_av_p \u001b[38;5;241m>\u001b[39m minimum_fraction_of_atoms)):\n",
      "File \u001b[0;32m~/codes/pyC2Ray/pyc2ray/solver/chemistry.py:63\u001b[0m, in \u001b[0;36mdo_chemistry\u001b[0;34m(dt, ndens_p, temperature_start, xh_p, xh_av_p, xh_intermed_p, phi_ion_p, clump_p, bh00, albpow, colh0, temph0, abu_c)\u001b[0m\n\u001b[1;32m     60\u001b[0m de \u001b[38;5;241m=\u001b[39m ndens_p \u001b[38;5;241m*\u001b[39m (xh_av_p \u001b[38;5;241m+\u001b[39m abu_c)\n\u001b[1;32m     61\u001b[0m xh_av_p \u001b[38;5;241m=\u001b[39m doric(xh_p, dt, temperature_end, de, phi_ion_p, bh00, albpow, colh0, temph0, clump_p, xh_intermed_p, xh_av_p)\n\u001b[0;32m---> 63\u001b[0m \u001b[38;5;28;01mif\u001b[39;00m ((\u001b[38;5;28mabs\u001b[39m((xh_av_p \u001b[38;5;241m-\u001b[39m xh_av_p_old) \u001b[38;5;241m/\u001b[39m (\u001b[38;5;241m1.0\u001b[39m \u001b[38;5;241m-\u001b[39m xh_av_p)) \u001b[38;5;241m<\u001b[39m minimum_fractional_change \u001b[38;5;129;01mor\u001b[39;00m \n\u001b[1;32m     64\u001b[0m      (\u001b[38;5;241m1.0\u001b[39m \u001b[38;5;241m-\u001b[39m xh_av_p \u001b[38;5;241m<\u001b[39m minimum_fraction_of_atoms)) \u001b[38;5;129;01mand\u001b[39;00m \n\u001b[1;32m     65\u001b[0m     (\u001b[38;5;28mabs\u001b[39m((temperature_end \u001b[38;5;241m-\u001b[39m temperature_previous_iteration) \u001b[38;5;241m/\u001b[39m temperature_end) \u001b[38;5;241m<\u001b[39m minimum_fractional_change)):\n\u001b[1;32m     66\u001b[0m     \u001b[38;5;28;01mbreak\u001b[39;00m\n\u001b[1;32m     68\u001b[0m \u001b[38;5;28;01mif\u001b[39;00m nit \u001b[38;5;241m>\u001b[39m \u001b[38;5;241m400\u001b[39m:\n",
      "\u001b[0;31mTypeError\u001b[0m: unsupported operand type(s) for -: 'NoneType' and 'float'"
     ]
    }
   ],
   "source": [
    "# time-step\n",
    "dt = 50*u.yr\n",
    "t_steps = 10000\n",
    "\n",
    "bh00=2.59e-13\n",
    "albpow=-0.7\n",
    "colh0=1.3e-8\n",
    "abu_c=7.1e-7\n",
    "temph0 = (13.598*u.eV/cst.k_B).cgs.value\n",
    "\n",
    "print('Volume-averaged ionized fraction at t=0: %.3f' %np.mean(xh_ini))\n",
    "\n",
    "# calculate ODE\n",
    "t_arr = np.arange(t_steps)*dt.value\n",
    "xh_arr = np.zeros(t_steps)\n",
    "for i in range(t_steps):\n",
    "    new_xh = p2c.chemistry.global_pass(dt.cgs.value, ndens, temp, xh, xh, xh, phi_ion, clumping, bh00, albpow, colh0, temph0, abu_c)\n",
    "    xh = new_xh\n",
    "    xh_arr[i] = xh\n",
    "\n",
    "print('Volume-averaged ionized fraction after t=%d %s: %.3f' %(dt.value*t_steps, dt.unit, np.mean(xh)))"
   ]
  },
  {
   "cell_type": "markdown",
   "id": "17081d0d",
   "metadata": {},
   "source": [
    "### Plot the results"
   ]
  },
  {
   "cell_type": "code",
   "execution_count": 25,
   "id": "48bade06-c65d-4230-9df8-8d1f91ebde50",
   "metadata": {},
   "outputs": [
    {
     "data": {
      "text/plain": [
       "<matplotlib.legend.Legend at 0x7b4c105f1110>"
      ]
     },
     "execution_count": 25,
     "metadata": {},
     "output_type": "execute_result"
    },
    {
     "data": {
      "image/png": "[encoded data removed]",
      "text/plain": [
       "<Figure size 640x480 with 1 Axes>"
      ]
     },
     "metadata": {},
     "output_type": "display_data"
    }
   ],
   "source": [
    "plt.plot(t_arr, xh_arr, label='Fortran90')\n",
    "plt.plot(t_arr, xh_arr2, label='Python')\n",
    "plt.xlabel('time [yr]', size=16), plt.ylabel(r'$x_{HI}$', size=16)\n",
    "plt.legend()"
   ]
  },
  {
   "cell_type": "code",
   "execution_count": 21,
   "id": "82ac51b9-8fad-4f5d-b7e5-2716fffbdcf7",
   "metadata": {},
   "outputs": [],
   "source": [
    "xh = np.ones(mesh_shape)*0.1 #np.random.uniform(low=0, high=0.1, size=mesh_shape)\n",
    "xh_old = xh\n",
    "abu_c=7.1e-7\n",
    "\n",
    "\n",
    "# temperature [K]\n",
    "temp = np.ones(mesh_shape)*1e4\n",
    "\n",
    "# clumping factor\n",
    "clumping = np.ones(mesh_shape)\n",
    "\n",
    "xh_arr2 = np.zeros(t_steps)\n",
    "bh00=2.59e-13\n",
    "albpow=-0.7\n",
    "colh0=1.3e-8\n",
    "abu_c=7.1e-7\n",
    "temph0 = (13.598*u.eV/cst.k_B).cgs.value\n",
    "\n",
    "epsilon = 1e-14\n",
    "\n",
    "#xh_intermed = xh_ini\n",
    "for i in range(t_steps):\n",
    "    #xh_intermed = xh\n",
    "    #conv_flag = p2c.chemistry.global_pass(dt.cgs.value, ndens, temp, xh, xh, xh_intermed, phi_ion, clumping, bh00, albpow, colh0, temph0, abu_c, xh.shape[0], xh.shape[1], xh.shape[2])\n",
    "    #xh_arr2[i] = xh_intermed\n",
    "    \n",
    "    # collisional ionizaiton \n",
    "    rhe = ndens * (xh + abu_c)\n",
    "\n",
    "    acolh0 = colh0 * np.sqrt(temp) * np.exp(-temph0 / temp)\n",
    "    aih0 = phi_ion + rhe * acolh0\n",
    "\n",
    "    # Recombination rate\n",
    "    brech0 = clumping * bh00 * (temp / 1e4)**albpow\n",
    "    delth = aih0 + rhe * brech0\n",
    "\n",
    "    # equilibrium solution\n",
    "    eqxh = aih0 / delth\n",
    "\n",
    "    # time scale, t_i\n",
    "    deltht = delth * dt.cgs.value\n",
    "\n",
    "    # analytical solution\n",
    "    xh = eqxh + (xh_old - eqxh) * np.exp(-deltht)\n",
    "    if xh < epsilon:\n",
    "        xh = epsilon\n",
    "\n",
    "    # time-averaged ionization fraction\n",
    "    if deltht < 1.0e-8:\n",
    "        xh_av = eqxh + (xh_old - eqxh)\n",
    "    else:\n",
    "        xh_av = eqxh + (xh_old - eqxh) * (1.0 - np.exp(-deltht)) / deltht\n",
    "\n",
    "    if xh_av < epsilon:\n",
    "        xh_av = epsilon\n",
    "\n",
    "    # update previous timestep\n",
    "    xh_arr2[i] = xh_av\n",
    "    xh_old = xh_av"
   ]
  },
  {
   "cell_type": "code",
   "execution_count": null,
   "id": "882d2552",
   "metadata": {},
   "outputs": [],
   "source": []
  },
  {
   "cell_type": "code",
   "execution_count": null,
   "id": "8eaa4648-ff38-4c58-b949-995ea4ddbbf8",
   "metadata": {},
   "outputs": [],
   "source": []
  }
 ],
 "metadata": {
  "kernelspec": {
   "display_name": "Python 3 (ipykernel)",
   "language": "python",
   "name": "python3"
  },
  "language_info": {
   "codemirror_mode": {
    "name": "ipython",
    "version": 3
   },
   "file_extension": ".py",
   "mimetype": "text/x-python",
   "name": "python",
   "nbconvert_exporter": "python",
   "pygments_lexer": "ipython3",
   "version": "3.11.0"
  }
 },
 "nbformat": 4,
 "nbformat_minor": 5
}
