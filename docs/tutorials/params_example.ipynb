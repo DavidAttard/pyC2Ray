{
 "cells": [
  {
   "cell_type": "markdown",
   "id": "ec70a4e2",
   "metadata": {},
   "source": [
    "## pyC$^2$Ray Parameter File\n",
    "\n",
    "Here, we will illustrate the content of pyC$^2$Ray parameter file and how you can extend it to add more astrophysical models and variables."
   ]
  },
  {
   "cell_type": "code",
   "execution_count": 2,
   "id": "a2b9c6c0",
   "metadata": {},
   "outputs": [],
   "source": [
    "import pyc2ray as pc2r\n",
    "import numpy as np, yaml\n",
    "import matplotlib.pyplot as plt\n",
    "\n",
    "import astropy.units as u"
   ]
  },
  {
   "cell_type": "markdown",
   "id": "442681d4-1888-43ac-820b-918b81b22b26",
   "metadata": {},
   "source": [
    "The variables employed in a pyC$^2$Ray run are defined in a YAML file, e.g. `parameters.yml`. The variables are grouped in cathegories and the basic requirement are:\n",
    "\n",
    " - `Grid`: Parameters to set up the simulation volume (e.g. boxsize, mesh-size, \n",
    " - `Material`: Initial properties of physical quantities in the simulation volume (neutral fraction, temperature and density)\n",
    " - `CGS`: Miscellaneous physical constant (do not require modification).\n",
    " - `Abundaces`: Cosmological element abundances (do not require modification).\n",
    " - `Photo`: Control parameters for the photo-ionization rate and the proprieties of the sources.\n",
    " - `BlackBodySource`: Parameters for the Black Body source (standard source model).\n",
    " - `Cosmology`: Cosmological paramerters, at the moment only standard $\\Lambda$CDM is implemented.\n",
    " - `Output`: Paths of the input/output directories.\n",
    " - `Raytracing`: Parameters for the raytracing, the only tunable parameter is the source batch size (see [$\\S$ source_batch_size.ipynb](source_batch_size.ipynb) tutorial).\n",
    "\n",
    "Based on the need of your simulation, you can add new cathegories. For instance, in the [$\\S$ make_sim.ipynb](make_sim.ipynb) tutorial, we will have a look at the `Sources` and `Sinks` cathegories for the source and sink models that are already implemented in pyC$^2$Ray."
   ]
  },
  {
   "cell_type": "code",
   "execution_count": 3,
   "id": "d04e727b-8e89-4c41-a46e-a7e493f3fc3d",
   "metadata": {},
   "outputs": [
    {
     "name": "stdout",
     "output_type": "stream",
     "text": [
      "dict_keys(['Grid', 'Material', 'CGS', 'Abundances', 'Photo', 'Sinks', 'BlackBodySource', 'Cosmology', 'Output', 'Raytracing'])\n"
     ]
    }
   ],
   "source": [
    "paramfile = 'parameters.yml'\n",
    "\n",
    "with open(paramfile,'r') as f:\n",
    "    params = yaml.load(f, yaml.CSafeLoader)\n",
    "    \n",
    "print(params.keys())"
   ]
  },
  {
   "cell_type": "markdown",
   "id": "37daf47c-b5df-4bd0-a451-6df1c11fe345",
   "metadata": {},
   "source": [
    "Most of the cathegories do not require any substantial modification as these are standard value, for instance the group `CGS` contain miscellaneous defined physical constants."
   ]
  },
  {
   "cell_type": "code",
   "execution_count": 4,
   "id": "b4095e95-395b-4998-b14b-d0b8ed51ef74",
   "metadata": {},
   "outputs": [
    {
     "data": {
      "text/plain": [
       "{'albpow': -0.7,\n",
       " 'bh00': 2.59e-13,\n",
       " 'alcpow': -0.672,\n",
       " 'eth0': 13.598,\n",
       " 'ethe0': 24.587,\n",
       " 'ethe1': 54.416,\n",
       " 'xih0': 1.0,\n",
       " 'fh0': 0.83,\n",
       " 'colh0_fact': 1.3e-08}"
      ]
     },
     "execution_count": 4,
     "metadata": {},
     "output_type": "execute_result"
    }
   ],
   "source": [
    "params['CGS']"
   ]
  },
  {
   "cell_type": "code",
   "execution_count": 5,
   "id": "5e700775-3be9-4f93-88d1-a4b94537b591",
   "metadata": {},
   "outputs": [
    {
     "name": "stdout",
     "output_type": "stream",
     "text": [
      "Ionizing energy for HI: 13.598 eV\n",
      "Ionizing energy for HeI: 24.587 eV\n",
      "Ionizing energy for HeII 54.416 eV\n"
     ]
    }
   ],
   "source": [
    "# ionizing energy [eV] of hydrogen\n",
    "print('Ionizing energy for HI:', params['CGS']['eth0'] * u.eV)\n",
    "\n",
    "# energy of the first ionization of helium [eV]\n",
    "print('Ionizing energy for HeI:', params['CGS']['ethe0'] * u.eV)\n",
    "\n",
    "# energy of the second ionization of helium [eV]\n",
    "print('Ionizing energy for HeII', params['CGS']['ethe1'] * u.eV)"
   ]
  },
  {
   "cell_type": "markdown",
   "id": "fb3ec33d-e10e-4fcd-a22b-a6af606d48f4",
   "metadata": {},
   "source": [
    "On the other hand, you are required to modify the I/O directories in the `Output` cathegory or the cosmological parameter, `Cosmology`."
   ]
  },
  {
   "cell_type": "code",
   "execution_count": 6,
   "id": "ac1c3ece-1400-4256-95b2-2a7c89a47fd6",
   "metadata": {
    "tags": []
   },
   "outputs": [
    {
     "data": {
      "text/plain": [
       "{'results_basename': './test_results/',\n",
       " 'inputs_basename': './',\n",
       " 'sources_basename': './',\n",
       " 'density_basename': './',\n",
       " 'logfile': 'pyC2Ray.log'}"
      ]
     },
     "execution_count": 6,
     "metadata": {},
     "output_type": "execute_result"
    }
   ],
   "source": [
    "params['Output']"
   ]
  },
  {
   "cell_type": "code",
   "execution_count": 7,
   "id": "7e1e15df-19a8-402e-94ec-edfdbc8c18fb",
   "metadata": {
    "tags": []
   },
   "outputs": [
    {
     "data": {
      "text/plain": [
       "{'cosmological': 0,\n",
       " 'h': 0.6766,\n",
       " 'Omega0': 0.30966,\n",
       " 'Omega_B': 0.04897,\n",
       " 'cmbtemp': 2.7255,\n",
       " 'zred_0': 9.0}"
      ]
     },
     "execution_count": 7,
     "metadata": {},
     "output_type": "execute_result"
    }
   ],
   "source": [
    "params['Cosmology']"
   ]
  }
 ],
 "metadata": {
  "kernelspec": {
   "display_name": "Python 3 (ipykernel)",
   "language": "python",
   "name": "python3"
  },
  "language_info": {
   "codemirror_mode": {
    "name": "ipython",
    "version": 3
   },
   "file_extension": ".py",
   "mimetype": "text/x-python",
   "name": "python",
   "nbconvert_exporter": "python",
   "pygments_lexer": "ipython3",
   "version": "3.10.12"
  }
 },
 "nbformat": 4,
 "nbformat_minor": 5
}
