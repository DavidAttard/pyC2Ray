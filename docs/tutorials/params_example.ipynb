{
 "cells": [
  {
   "cell_type": "markdown",
   "id": "ec70a4e2",
   "metadata": {},
   "source": [
    "## pyC$^2$Ray Parameter File\n",
    "\n",
    "In this tutorial we will illustrate the content of pyC$^2$Ray parameter file and how you can extend it to add more astrophysical models, variables, etc.\n",
    "\n",
    "[C2Ray](https://github.com/garrelt/C2-Ray3Dm)"
   ]
  },
  {
   "cell_type": "code",
   "execution_count": 14,
   "id": "a2b9c6c0",
   "metadata": {},
   "outputs": [],
   "source": [
    "import pyc2ray as pc2r\n",
    "import numpy as np, yaml\n",
    "import matplotlib.pyplot as plt\n",
    "\n",
    "import astropy.units as u"
   ]
  },
  {
   "cell_type": "markdown",
   "id": "442681d4-1888-43ac-820b-918b81b22b26",
   "metadata": {},
   "source": [
    "Most of the variables employed by pyC$^2$Ray are defined in a YAML file, e.g. `parameters.yml` and can be access from the notebook with the following: "
   ]
  },
  {
   "cell_type": "code",
   "execution_count": 5,
   "id": "d04e727b-8e89-4c41-a46e-a7e493f3fc3d",
   "metadata": {},
   "outputs": [],
   "source": [
    "paramfile = 'parameters.yml'\n",
    "\n",
    "with open(paramfile,'r') as f:\n",
    "    params = yaml.load(f, yaml.CSafeLoader)"
   ]
  },
  {
   "cell_type": "markdown",
   "id": "53af26a2-4c84-4358-ba09-b8ba15787a97",
   "metadata": {},
   "source": [
    "The variables are grouped in cathegories. Here below, we show an example of the currently required cathegories for a test run. More features can be ported as new cathegories can be included in the same file."
   ]
  },
  {
   "cell_type": "code",
   "execution_count": 10,
   "id": "a95a4242-7edb-4d2b-8515-f8e60e4cce84",
   "metadata": {},
   "outputs": [
    {
     "data": {
      "text/plain": [
       "dict_keys(['Grid', 'Material', 'CGS', 'Abundances', 'Photo', 'Sinks', 'BlackBodySource', 'Cosmology', 'Output', 'Raytracing'])"
      ]
     },
     "execution_count": 10,
     "metadata": {},
     "output_type": "execute_result"
    }
   ],
   "source": [
    "params.keys()"
   ]
  },
  {
   "cell_type": "markdown",
   "id": "37daf47c-b5df-4bd0-a451-6df1c11fe345",
   "metadata": {},
   "source": [
    "Most of the cathegories do not require any substantial modification as these are standard value, for instance the group `CGS` contain miscellaneous defined physical constants."
   ]
  },
  {
   "cell_type": "code",
   "execution_count": 11,
   "id": "b4095e95-395b-4998-b14b-d0b8ed51ef74",
   "metadata": {},
   "outputs": [
    {
     "data": {
      "text/plain": [
       "{'albpow': -0.7,\n",
       " 'bh00': 2.59e-13,\n",
       " 'alcpow': -0.672,\n",
       " 'eth0': 13.598,\n",
       " 'ethe0': 24.587,\n",
       " 'ethe1': 54.416,\n",
       " 'xih0': 1.0,\n",
       " 'fh0': 0.83,\n",
       " 'colh0_fact': 1.3e-08}"
      ]
     },
     "execution_count": 11,
     "metadata": {},
     "output_type": "execute_result"
    }
   ],
   "source": [
    "params['CGS']"
   ]
  },
  {
   "cell_type": "code",
   "execution_count": 18,
   "id": "5e700775-3be9-4f93-88d1-a4b94537b591",
   "metadata": {},
   "outputs": [
    {
     "name": "stdout",
     "output_type": "stream",
     "text": [
      "13.598 eV\n",
      "24.587 eV\n",
      "54.416 eV\n"
     ]
    }
   ],
   "source": [
    "# ionizing energy [eV] of hydrogen\n",
    "print(params['CGS']['eth0'] * u.eV)\n",
    "\n",
    "# energy of the first ionization of helium [eV]\n",
    "print(params['CGS']['ethe0'] * u.eV)\n",
    "\n",
    "# energy of the second ionization of helium [eV]\n",
    "print(params['CGS']['ethe1'] * u.eV)"
   ]
  },
  {
   "cell_type": "code",
   "execution_count": null,
   "id": "6c87e224-4ee7-459e-a291-863e25969530",
   "metadata": {},
   "outputs": [],
   "source": []
  }
 ],
 "metadata": {
  "kernelspec": {
   "display_name": "Python 3 (ipykernel)",
   "language": "python",
   "name": "python3"
  },
  "language_info": {
   "codemirror_mode": {
    "name": "ipython",
    "version": 3
   },
   "file_extension": ".py",
   "mimetype": "text/x-python",
   "name": "python",
   "nbconvert_exporter": "python",
   "pygments_lexer": "ipython3",
   "version": "3.11.0"
  }
 },
 "nbformat": 4,
 "nbformat_minor": 5
}
